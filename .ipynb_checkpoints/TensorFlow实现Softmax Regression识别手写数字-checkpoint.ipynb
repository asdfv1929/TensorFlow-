{
 "cells": [
  {
   "cell_type": "code",
   "execution_count": 1,
   "metadata": {
    "collapsed": true,
    "scrolled": true
   },
   "outputs": [],
   "source": [
    "# MNIST 28x28像素 手写数字图片 只包含灰度值信息\n",
    "# 目标：进行分类 0 ~ 9 共10类\n",
    "import tensorflow as tf\n",
    "from tensorflow.examples.tutorials.mnist import input_data"
   ]
  },
  {
   "cell_type": "code",
   "execution_count": 2,
   "metadata": {},
   "outputs": [
    {
     "name": "stdout",
     "output_type": "stream",
     "text": [
      "Extracting MNIST_data\\train-images-idx3-ubyte.gz\n",
      "Extracting MNIST_data\\train-labels-idx1-ubyte.gz\n",
      "Extracting MNIST_data\\t10k-images-idx3-ubyte.gz\n",
      "Extracting MNIST_data\\t10k-labels-idx1-ubyte.gz\n"
     ]
    }
   ],
   "source": [
    "mnist = input_data.read_data_sets(\"MNIST_data\", one_hot=True)  # 获取MNIST数据"
   ]
  },
  {
   "cell_type": "code",
   "execution_count": 3,
   "metadata": {},
   "outputs": [
    {
     "name": "stdout",
     "output_type": "stream",
     "text": [
      "(55000, 784) (55000, 10)\n",
      "(10000, 784) (10000, 10)\n",
      "(5000, 784) (5000, 10)\n"
     ]
    }
   ],
   "source": [
    "print(mnist.train.images.shape, mnist.train.labels.shape)   # 训练集55000个样本  图像28x28像素  这里784维是 28x28个点展开成1维的结果 label是10维\n",
    "print(mnist.test.images.shape, mnist.test.labels.shape)     # 测试集10000个样本\n",
    "print(mnist.validation.images.shape, mnist.validation.labels.shape)  # 验证机5000个样本"
   ]
  },
  {
   "cell_type": "code",
   "execution_count": 4,
   "metadata": {
    "collapsed": true
   },
   "outputs": [],
   "source": [
    "# y = softmax(Wx + b)\n",
    "import tensorflow as tf\n",
    "sess = tf.InteractiveSession()  # 将InteractiveSession注册为默认的session\n",
    "# 不同session之间的数据和运算都是相互独立的\n",
    "x = tf.placeholder(tf.float32, [None, 784])  \n",
    "# 创建placeholder，输入数据。第一个参数是数据类型，第二个参数是tensor的数据尺寸，这里None代表不限制条数的输入，784维向量"
   ]
  },
  {
   "cell_type": "code",
   "execution_count": 5,
   "metadata": {
    "collapsed": true
   },
   "outputs": [],
   "source": [
    "W = tf.Variable(tf.zeros([784, 10]))  # Weights参数，Variable在模型训练迭代中式持久化的。weights初始化为0\n",
    "b = tf.Variable(tf.zeros([10]))   # bias全部初始化为0"
   ]
  },
  {
   "cell_type": "code",
   "execution_count": 6,
   "metadata": {
    "collapsed": true
   },
   "outputs": [],
   "source": [
    "# y = softmax(Wx + b) 改写成TensorFlow语言\n",
    "y = tf.nn.softmax(tf.matmul(x, W) + b)  # 实现Softmax算法\n",
    "# tf.matmul 矩阵乘法函数"
   ]
  },
  {
   "cell_type": "code",
   "execution_count": 7,
   "metadata": {
    "collapsed": true
   },
   "outputs": [],
   "source": [
    "y_ = tf.placeholder(tf.float32, [None, 10])  # 输入真实的label的概率分布 y_\n",
    "# 损失函数\n",
    "cross_entropy = tf.reduce_mean(-tf.reduce_sum(y_ * tf.log(y), reduction_indices=[1]))  \n",
    "# reduce_sum求和的cgama， reduce_mean对每个batch数据结果求均值"
   ]
  },
  {
   "cell_type": "code",
   "execution_count": 8,
   "metadata": {
    "collapsed": true
   },
   "outputs": [],
   "source": [
    "# 定义一个优化算法\n",
    "# 常用 随机梯度下降SGD算法\n",
    "train_step = tf.train.GradientDescentOptimizer(0.5).minimize(cross_entropy)  # 学习率0.5"
   ]
  },
  {
   "cell_type": "code",
   "execution_count": 9,
   "metadata": {
    "collapsed": true
   },
   "outputs": [],
   "source": [
    "# 使用TensorFlow的全局参数初始化器tf.global_variables_initializer，并直接运行run方法\n",
    "tf.global_variables_initializer().run()"
   ]
  },
  {
   "cell_type": "code",
   "execution_count": 10,
   "metadata": {
    "collapsed": true
   },
   "outputs": [],
   "source": [
    "# 迭代训练操作train_step\n",
    "# 每次随机从训练集中抽取100条样本构成一个mini-batch，并feed给placeholder，调用train_step进行训练\n",
    "for i in range(1000):\n",
    "    batch_xs, batch_ys = mnist.train.next_batch(100)\n",
    "    train_step.run({x: batch_xs, y_:batch_ys})"
   ]
  },
  {
   "cell_type": "code",
   "execution_count": 11,
   "metadata": {
    "collapsed": true
   },
   "outputs": [],
   "source": [
    "correct_prediction = tf.equal(tf.argmax(y, 1), tf.argmax(y_, 1))"
   ]
  },
  {
   "cell_type": "code",
   "execution_count": 12,
   "metadata": {
    "collapsed": true
   },
   "outputs": [],
   "source": [
    "# 统计全部样本预测的accuracy，先用cast将之前的correct_prediction输出的bool值转换为float32，再求平均\n",
    "accuracy = tf.reduce_mean(tf.cast(correct_prediction, tf.float32))"
   ]
  },
  {
   "cell_type": "code",
   "execution_count": 13,
   "metadata": {},
   "outputs": [
    {
     "name": "stdout",
     "output_type": "stream",
     "text": [
      "0.9177\n"
     ]
    }
   ],
   "source": [
    "# 将测试数据的特征和label输入评测流程accuracy，计算模型在测试集上的准确率\n",
    "print(accuracy.eval({x: mnist.test.images, y_: mnist.test.labels}))"
   ]
  },
  {
   "cell_type": "code",
   "execution_count": null,
   "metadata": {
    "collapsed": true
   },
   "outputs": [],
   "source": []
  }
 ],
 "metadata": {
  "kernelspec": {
   "display_name": "Python 3",
   "language": "python",
   "name": "python3"
  },
  "language_info": {
   "codemirror_mode": {
    "name": "ipython",
    "version": 3
   },
   "file_extension": ".py",
   "mimetype": "text/x-python",
   "name": "python",
   "nbconvert_exporter": "python",
   "pygments_lexer": "ipython3",
   "version": "3.6.3"
  }
 },
 "nbformat": 4,
 "nbformat_minor": 2
}
