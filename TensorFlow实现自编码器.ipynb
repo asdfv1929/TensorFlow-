{
 "cells": [
  {
   "cell_type": "code",
   "execution_count": 1,
   "metadata": {
    "collapsed": true
   },
   "outputs": [],
   "source": [
    "import numpy as np\n",
    "import sklearn.preprocessing as prep\n",
    "import tensorflow as tf\n",
    "from tensorflow.examples.tutorials.mnist import input_data"
   ]
  },
  {
   "cell_type": "code",
   "execution_count": 2,
   "metadata": {
    "collapsed": true
   },
   "outputs": [],
   "source": [
    "# Xavier初始化器会根据某一层网络输入、输出节点数量自动调整最合适的分布\n",
    "# Xavier初始化器让权重被初始化得不大不小，正好合适\n",
    "# 数学角度上，Xavier就是让权重满足0均值，同时方差为 2/(n_in + n_out)，分布可以用均匀分布或者高斯分布\n",
    "# 通过tf.random_uniform创建了一个(low, high)范围内的均匀分布\n",
    "# fan_in 输入节点的数量 fan_out 输出节点的数量\n",
    "def xavier_init(fan_in, fan_out, constant = 1):\n",
    "    low = -constant * np.sqrt(6.0 / (fan_in + fan_out))\n",
    "    high = constant * np.sqrt(6.0 / (fan_in + fan_out))\n",
    "    return tf.random_uniform((fan_in, fan_out), minval = low, maxval = high, dtype = tf.float32)"
   ]
  },
  {
   "cell_type": "code",
   "execution_count": 3,
   "metadata": {
    "collapsed": true
   },
   "outputs": [],
   "source": [
    "# 定义去噪自编码的class\n",
    "class AdditiveFaussianNoiseAutoencoder(object):\n",
    "    # 输入变量数、隐含层节点数、隐含层激活函数、优化器、高斯噪声系数\n",
    "    def __init__(self, n_input, n_hidden, transfer_function=tf.nn.softplus, \n",
    "                 optimizer=tf.train.AdamOptimizer(), scale=0.1):\n",
    "        self.n_input = n_input\n",
    "        self.n_hidden = n_hidden\n",
    "        self.transfer = transfer_function\n",
    "        self.scale = tf.placeholder(tf.float32)\n",
    "        self.training_scale = scale\n",
    "        network_weights = self._initialize_weights()\n",
    "        self.weights = network_weights\n",
    "        \n",
    "        self.x = tf.placeholder(tf.float32, [None, self.n_input])\n",
    "        self.hidden = self.transfer(tf.add(tf.matmul(self.x + scale * tf.random_normal((n_input, )), self.weights['w1']), self.weights['b1']))\n",
    "        self.reconstruction = tf.add(tf.matmul(self.hidden, self.weights['w2']), self.weights['b2'])\n",
    "        \n",
    "        self.cost = 0.5 * tf.reduce_sum(tf.pow(tf.subtract(self.reconstruction, self.x), 2.0))\n",
    "        self.optimizer = optimizer.minimize(self.cost)\n",
    "        \n",
    "        init = tf.global_variables_initializer()\n",
    "        self.sess = tf.Session()\n",
    "        self.sess.run(init)\n",
    "    # 参数初始化函数\n",
    "    def _initialize_weights(self):\n",
    "        all_weights = dict()\n",
    "        all_weights['w1'] = tf.Variable(xavier_init(self.n_input, self.n_hidden))\n",
    "        all_weights['b1'] = tf.Variable(tf.zeros([self.n_hidden], dtype=tf.float32))\n",
    "        all_weights['w2'] = tf.Variable(tf.zeros([self.n_hidden, self.n_input], dtype=tf.float32))\n",
    "        all_weights['b2'] = tf.Variable(tf.zeros([self.n_input], dtype=tf.float32))\n",
    "        return all_weights\n",
    "    # 用一个batch数据进行训练兵返回当前的损失cost\n",
    "    def partial_fit(self, X):\n",
    "        cost, opt = self.sess.run((self.cost, self.optimizer), feed_dict={self.x: X, self.scale: self.training_scale})\n",
    "        return cost\n",
    "    \n",
    "    def cal_total_cost(self, X):\n",
    "        return self.sess.run(self.cost, feed_dict={self.x: X, self.scale: self.training_scale})\n",
    "    \n",
    "    def transform(self, X):\n",
    "        return self.sess.run(self.hidden, feed_dict={self.x: X, self.scale: self.training_scale})\n",
    "    \n",
    "    def generate(self, hidden=None):\n",
    "        if hidden is None:\n",
    "            hidden = np.random.normal(size=self.weights['b1'])\n",
    "        return self.sess.run(self.reconstruction, feed_dict={self.hidden: hidden})\n",
    "    \n",
    "    def reconstruct(self, X):\n",
    "        return self.sess.run(self.reconstruction, feed_dict={self.x: X, self.scale: self.training_scale})\n",
    "    \n",
    "    def getWeights(self):\n",
    "        return self.sess.run(self.weights['w1'])\n",
    "    \n",
    "    def getBiases(self):\n",
    "        return self.sess.run(self.weights['b1'])"
   ]
  },
  {
   "cell_type": "code",
   "execution_count": 4,
   "metadata": {},
   "outputs": [
    {
     "name": "stdout",
     "output_type": "stream",
     "text": [
      "Extracting MNIST_data\\train-images-idx3-ubyte.gz\n",
      "Extracting MNIST_data\\train-labels-idx1-ubyte.gz\n",
      "Extracting MNIST_data\\t10k-images-idx3-ubyte.gz\n",
      "Extracting MNIST_data\\t10k-labels-idx1-ubyte.gz\n"
     ]
    }
   ],
   "source": [
    "mnist = input_data.read_data_sets('MNIST_data', one_hot=True)"
   ]
  },
  {
   "cell_type": "code",
   "execution_count": 5,
   "metadata": {
    "collapsed": true
   },
   "outputs": [],
   "source": [
    "# 对训练、测试数据进行标准化处理\n",
    "# 标准化：即让数据变成0均值，且标准差为1的分布\n",
    "# 方法就是 先减去均值，再除以标准差\n",
    "def standard_scale(X_train, X_test):\n",
    "    preprocessor = prep.StandardScaler().fit(X_train)  # 先在训练集上进行fit，得到一个共用的Scaler\n",
    "    X_train = preprocessor.transform(X_train)\n",
    "    X_test = preprocessor.transform(X_test)\n",
    "    return X_train, X_test"
   ]
  },
  {
   "cell_type": "code",
   "execution_count": 6,
   "metadata": {
    "collapsed": true
   },
   "outputs": [],
   "source": [
    "# 定义一个获取随机block数据的函数：取一个从0到len(data)-batch_size之间的随机整数，再以这个随机数作为block的起始位置，然后顺序取到一个batch size的数据\n",
    "def get_random_block_from_data(data, batch_size):\n",
    "    start_index = np.random.randint(0, len(data) - batch_size)\n",
    "    return data[start_index:(start_index + batch_size)]"
   ]
  },
  {
   "cell_type": "code",
   "execution_count": 7,
   "metadata": {
    "collapsed": true
   },
   "outputs": [],
   "source": [
    "X_train, X_test = standard_scale(mnist.train.images, mnist.test.images)"
   ]
  },
  {
   "cell_type": "code",
   "execution_count": 8,
   "metadata": {
    "collapsed": true
   },
   "outputs": [],
   "source": [
    "# 总训练样本数\n",
    "n_samples = int(mnist.train.num_examples)\n",
    "# 最大训练的轮数\n",
    "training_epochs = 20\n",
    "# 每次的数量\n",
    "batch_size = 128\n",
    "# 设置每隔一轮就显示一次损失cost\n",
    "display_step = 1"
   ]
  },
  {
   "cell_type": "code",
   "execution_count": 9,
   "metadata": {},
   "outputs": [
    {
     "name": "stdout",
     "output_type": "stream",
     "text": [
      "Epoch:  0001 cost= 17852.710422727\n",
      "Epoch:  0002 cost= 11560.874592045\n",
      "Epoch:  0003 cost= 10596.626080114\n",
      "Epoch:  0004 cost= 10014.843424432\n",
      "Epoch:  0005 cost= 9753.911777273\n",
      "Epoch:  0006 cost= 9353.423552841\n",
      "Epoch:  0007 cost= 9331.945791477\n",
      "Epoch:  0008 cost= 9548.853823864\n",
      "Epoch:  0009 cost= 8789.499659659\n",
      "Epoch:  0010 cost= 8745.346554545\n",
      "Epoch:  0011 cost= 9043.851969886\n",
      "Epoch:  0012 cost= 8007.992773864\n",
      "Epoch:  0013 cost= 7814.246480682\n",
      "Epoch:  0014 cost= 7695.541155682\n",
      "Epoch:  0015 cost= 9037.002271591\n",
      "Epoch:  0016 cost= 8970.151557386\n",
      "Epoch:  0017 cost= 7837.071840909\n",
      "Epoch:  0018 cost= 7205.213496591\n",
      "Epoch:  0019 cost= 8086.542142045\n",
      "Epoch:  0020 cost= 8563.618600568\n"
     ]
    }
   ],
   "source": [
    "# 创建一个AGN自编码器的实例\n",
    "autoencoder = AdditiveFaussianNoiseAutoencoder(n_input=784, n_hidden=200,\n",
    "                                               transfer_function=tf.nn.softplus, \n",
    "                                               optimizer=tf.train.AdamOptimizer(learning_rate=0.001), \n",
    "                                               scale=0.01)\n",
    "# 开始训练过程\n",
    "for epoch in range(training_epochs):\n",
    "    avg_cost = 0.\n",
    "    total_batch = int(n_samples / batch_size)\n",
    "    for i in range(total_batch):\n",
    "        batch_xs = get_random_block_from_data(X_train, batch_size)\n",
    "        \n",
    "        cost = autoencoder.partial_fit(batch_xs)\n",
    "        avg_cost += cost / n_samples * batch_size\n",
    "    \n",
    "    if epoch % display_step == 0:\n",
    "        print(\"Epoch: \", '%04d' % (epoch + 1), \"cost=\", \"{:.9f}\".format(avg_cost))"
   ]
  },
  {
   "cell_type": "code",
   "execution_count": 10,
   "metadata": {},
   "outputs": [
    {
     "name": "stdout",
     "output_type": "stream",
     "text": [
      "Total cost: 696033.0\n"
     ]
    }
   ],
   "source": [
    "print(\"Total cost: \" + str(autoencoder.cal_total_cost(X_test)))"
   ]
  },
  {
   "cell_type": "code",
   "execution_count": null,
   "metadata": {
    "collapsed": true
   },
   "outputs": [],
   "source": []
  }
 ],
 "metadata": {
  "kernelspec": {
   "display_name": "Python 3",
   "language": "python",
   "name": "python3"
  },
  "language_info": {
   "codemirror_mode": {
    "name": "ipython",
    "version": 3
   },
   "file_extension": ".py",
   "mimetype": "text/x-python",
   "name": "python",
   "nbconvert_exporter": "python",
   "pygments_lexer": "ipython3",
   "version": "3.6.3"
  }
 },
 "nbformat": 4,
 "nbformat_minor": 2
}
